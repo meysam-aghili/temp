{
 "cells": [
  {
   "cell_type": "code",
   "execution_count": 20,
   "metadata": {},
   "outputs": [],
   "source": [
    "from pytube import Stream,Playlist\n",
    "from pytube import YouTube\n",
    "from bs4 import BeautifulSoup\n",
    "from selenium import webdriver\n",
    "import pandas as pd\n",
    "from concurrent.futures import ThreadPoolExecutor\n",
    "import requests\n",
    "from tqdm import tqdm\n",
    "import os"
   ]
  },
  {
   "cell_type": "code",
   "execution_count": 21,
   "metadata": {},
   "outputs": [],
   "source": [
    "def get_channel_playlists(channel):\n",
    "    driver = webdriver.Chrome()\n",
    "    driver.get(f'https://www.youtube.com/@{channel}/playlists')\n",
    "    soup = BeautifulSoup(driver.page_source,'html.parser')\n",
    "    driver.close()\n",
    "    return {channel:[{'id':p.get('href').split('list=')[1], 'name':p.getText(strip=True)} for p in soup.select(\"#video-title\")]} # extract playlist_ids\n",
    "\n",
    "def get_playlist_videos(playlist_id):\n",
    "    return Playlist(f'https://www.youtube.com/playlist?list={playlist_id}').video_urls\n",
    "\n",
    "def get_playlists_videos(playlist_ids):\n",
    "    return {playlist_id:get_playlist_videos(playlist_id) for playlist_id in playlist_ids}\n",
    "\n",
    "def save_video(url):\n",
    "    def progress_callback(stream: Stream, data_chunk: bytes, bytes_remaining: int) -> None:\n",
    "        #pbar.update(len(data_chunk))\n",
    "        pass\n",
    "    yt = YouTube(url, on_progress_callback=progress_callback)\n",
    "    video = yt.streams.get_highest_resolution() #480 if not then 720 then 360,144\n",
    "    if not os.path.exists(f'./dl_files/{video.default_filename}'):\n",
    "        print(f'file name: {video.default_filename}\\nsize: {video.filesize_mb}\\nquality:{video.resolution}')\n",
    "        #pbar = tqdm(total=video.filesize, unit=\"bytes\")\n",
    "        try:\n",
    "            video.download('./dl_files')\n",
    "            print(f'downloaded {video.default_filename}')\n",
    "        except Exception as e:\n",
    "            if os.path.exists(f'./dl_files/{video.default_filename}'):\n",
    "                os.remove(f'./dl_files/{video.default_filename}')\n",
    "            raise e\n",
    "        #pbar.close()\n",
    "    else:\n",
    "        print(f\"video exists : {video.default_filename}\")\n",
    "\n",
    "def save_videos(videos_url:list):\n",
    "    with ThreadPoolExecutor(max_workers=3) as executor:\n",
    "        executor.map(save_video, videos_url)"
   ]
  },
  {
   "cell_type": "code",
   "execution_count": null,
   "metadata": {},
   "outputs": [],
   "source": [
    "playlists = get_channel_playlists('vtoo_learn')\n",
    "playlists_ids = [playlist['id'] for playlist in playlists['vtoo_learn']]\n",
    "playlists_videos = get_playlists_videos(playlists_ids)\n",
    "\n",
    "playlists_df = pd.DataFrame(playlists['vtoo_learn'])\n",
    "rows = []\n",
    "for key, values in playlists_videos.items():\n",
    "    for value in values:\n",
    "        rows.append({'id': key, 'value': value})\n",
    "playlists_videos_df = pd.DataFrame(rows)\n",
    "playlists_videos_df = playlists_videos_df.merge(playlists_df, on='id').rename({'value':'video_url'}, axis=1).reset_index(drop=True)"
   ]
  },
  {
   "cell_type": "code",
   "execution_count": 23,
   "metadata": {},
   "outputs": [
    {
     "data": {
      "text/plain": [
       "{'vtoo_learn': [{'id': 'PLlaijeQ_sCnJf0Zg7iQGPNiZIuqbT9i9a&pp=iAQB',\n",
       "   'name': 'پروژه'},\n",
       "  {'id': 'PLlaijeQ_sCnIdja5twIr7fqSD7sHcC2t7&pp=iAQB',\n",
       "   'name': 'مدارهای الکتریکی'},\n",
       "  {'id': 'PLlaijeQ_sCnIfeNTPSsRncgMTATLhHN5g&pp=iAQB',\n",
       "   'name': 'آموزش مولتی سیم'},\n",
       "  {'id': 'PLlaijeQ_sCnI1opXUssq3nGhYnvFVLlvp&pp=iAQB', 'name': 'آموزش یوتیوب'},\n",
       "  {'id': 'PLlaijeQ_sCnLkp0VCM61fqvzkxgtpvUIh&pp=iAQB',\n",
       "   'name': 'دانشکده باهنر شیراز'},\n",
       "  {'id': 'PLlaijeQ_sCnLzDp70OzdqV06vn6r-x7qs&pp=iAQB',\n",
       "   'name': 'آموزش نرم افزار موبایل'},\n",
       "  {'id': 'PLlaijeQ_sCnL8pwhyna4dCUmJx5oKL9Sg&pp=iAQB',\n",
       "   'name': 'اینترنت ماهواره ای'},\n",
       "  {'id': 'PLlaijeQ_sCnJTB3TTxX47-7ZVa7JINRoC&pp=iAQB', 'name': 'پادکست'},\n",
       "  {'id': 'PLlaijeQ_sCnKIeDo3gCTQjMaHQsEUcSef&pp=iAQB',\n",
       "   'name': 'دیتاشیت خوانی Datasheet'},\n",
       "  {'id': 'PLlaijeQ_sCnKRwxW1tg9SqIlffj3MiRXy&pp=iAQB',\n",
       "   'name': 'آموزش الکترونیک'},\n",
       "  {'id': 'PLlaijeQ_sCnK_P2RbVXbbCESAmadk4RMT&pp=iAQB', 'name': 'متفرقه'},\n",
       "  {'id': 'PLlaijeQ_sCnIXWcqDm_9t1z_JIj1ZsXKj&pp=iAQB', 'name': 'لایو (Live)'},\n",
       "  {'id': 'PLlaijeQ_sCnLFbx8K6s2nsIyVE4iXenE6&pp=iAQB', 'name': 'پرسش و پاسخ'},\n",
       "  {'id': 'PLlaijeQ_sCnJHqPsSLLp-8VxTmyS0cYrL&pp=iAQB', 'name': 'کسب و کار'},\n",
       "  {'id': 'PLlaijeQ_sCnKJpdbnTZXdg49xHk-zWzmC&pp=iAQB', 'name': 'تست قطعات'},\n",
       "  {'id': 'PLlaijeQ_sCnKVfCMER-4NW_HQKQl2ap_U&pp=iAQB',\n",
       "   'name': 'آموزش سخت افزار موبایل'},\n",
       "  {'id': 'PLlaijeQ_sCnKLczJ2mMcvHRy3-2e-yXD6&pp=iAQB', 'name': 'ابزار'},\n",
       "  {'id': 'PLlaijeQ_sCnI9F2pOeQiUKy1t5JRu99Yr&pp=iAQB',\n",
       "   'name': 'الکترونیک کاربردی'}]}"
      ]
     },
     "execution_count": 23,
     "metadata": {},
     "output_type": "execute_result"
    }
   ],
   "source": [
    "playlists"
   ]
  },
  {
   "cell_type": "code",
   "execution_count": 26,
   "metadata": {},
   "outputs": [
    {
     "data": {
      "text/plain": [
       "array(['https://www.youtube.com/watch?v=w2beXvm0uhI',\n",
       "       'https://www.youtube.com/watch?v=H_gAkKb30fU',\n",
       "       'https://www.youtube.com/watch?v=fZtbn6oohvc',\n",
       "       'https://www.youtube.com/watch?v=TUr0lN6iLsA',\n",
       "       'https://www.youtube.com/watch?v=WsgA8wE8YLA',\n",
       "       'https://www.youtube.com/watch?v=3CSI7V5LHdI',\n",
       "       'https://www.youtube.com/watch?v=dtZ8VyzlFcQ',\n",
       "       'https://www.youtube.com/watch?v=DyXs3WybZgQ',\n",
       "       'https://www.youtube.com/watch?v=pVXYDAiAbgI',\n",
       "       'https://www.youtube.com/watch?v=v9Wl4zxBdxU',\n",
       "       'https://www.youtube.com/watch?v=qgF23ErBXsE',\n",
       "       'https://www.youtube.com/watch?v=ZWCDCFCv7A4',\n",
       "       'https://www.youtube.com/watch?v=16Xx7lQSzmk',\n",
       "       'https://www.youtube.com/watch?v=khXKSiFZZUY',\n",
       "       'https://www.youtube.com/watch?v=S7YuWTezWYM',\n",
       "       'https://www.youtube.com/watch?v=HqIMkj0snCY',\n",
       "       'https://www.youtube.com/watch?v=7zG1h8606ek',\n",
       "       'https://www.youtube.com/watch?v=dgD9uzHMU5c',\n",
       "       'https://www.youtube.com/watch?v=Xj2PP46HTL8',\n",
       "       'https://www.youtube.com/watch?v=t4l2Cy5jlPY',\n",
       "       'https://www.youtube.com/watch?v=Jwi6KOqljEI',\n",
       "       'https://www.youtube.com/watch?v=hetWfbNvjVo',\n",
       "       'https://www.youtube.com/watch?v=_2mIV66IOyU',\n",
       "       'https://www.youtube.com/watch?v=3eapFXGf6cY',\n",
       "       'https://www.youtube.com/watch?v=MLhJm74ckfU',\n",
       "       'https://www.youtube.com/watch?v=Z5EqSRN7fbw',\n",
       "       'https://www.youtube.com/watch?v=s2qHNHzfD0M',\n",
       "       'https://www.youtube.com/watch?v=RuXFt7cim60',\n",
       "       'https://www.youtube.com/watch?v=kXklm9Z6X2o',\n",
       "       'https://www.youtube.com/watch?v=Hyt-ipbXLfE',\n",
       "       'https://www.youtube.com/watch?v=XHiw3gnxX20',\n",
       "       'https://www.youtube.com/watch?v=FvzN8xCYbPY',\n",
       "       'https://www.youtube.com/watch?v=GvUBjQ5fSd4',\n",
       "       'https://www.youtube.com/watch?v=2LNoSb5A6pw',\n",
       "       'https://www.youtube.com/watch?v=Ju9He0bcdls',\n",
       "       'https://www.youtube.com/watch?v=I1sbEmIV-M4',\n",
       "       'https://www.youtube.com/watch?v=qStlJOcMz1I',\n",
       "       'https://www.youtube.com/watch?v=d4Ee-_y1fe0',\n",
       "       'https://www.youtube.com/watch?v=EdMBf-wYtBc',\n",
       "       'https://www.youtube.com/watch?v=jnIOm133TgU'], dtype=object)"
      ]
     },
     "execution_count": 26,
     "metadata": {},
     "output_type": "execute_result"
    }
   ],
   "source": [
    "videos_to_download = playlists_videos_df[playlists_videos_df['name'].isin(['آموزش سخت افزار موبایل'])]['video_url'].values\n",
    "videos_to_download"
   ]
  },
  {
   "cell_type": "code",
   "execution_count": 27,
   "metadata": {},
   "outputs": [
    {
     "name": "stdout",
     "output_type": "stream",
     "text": [
      "file name: آموزش تعمیرات موبایل جلسه ی 1.mp4\n",
      "size: 114.246\n",
      "quality:720p\n",
      "file name: آموزش تعمیرات موبایل جلسه ی 3.mp4\n",
      "size: 169.352\n",
      "quality:720p\n",
      "file name: آموزش تعمیرات موبایل جلسه ی 2.mp4\n",
      "size: 119.366\n",
      "quality:720p\n",
      "downloaded آموزش تعمیرات موبایل جلسه ی 2.mp4\n",
      "file name: آموزش تعمیرات موبایل جلسه ی 4.mp4\n",
      "size: 261.358\n",
      "quality:720p\n",
      "downloaded آموزش تعمیرات موبایل جلسه ی 3.mp4\n",
      "file name: آموزش تعمیرات موبایل جلسه ی 5.mp4\n",
      "size: 129.279\n",
      "quality:720p\n",
      "downloaded آموزش تعمیرات موبایل جلسه ی 1.mp4\n",
      "file name: آموزش تعمیرات موبایل جلسه ی 6.mp4\n",
      "size: 67.431\n",
      "quality:720p\n",
      "downloaded آموزش تعمیرات موبایل جلسه ی 6.mp4\n",
      "file name: آموزش تعمیرات موبایل جلسه ی 8.mp4\n",
      "size: 173.675\n",
      "quality:720p\n",
      "downloaded آموزش تعمیرات موبایل جلسه ی 5.mp4\n",
      "file name: آموزش تعمیرات موبایل جلسه ی 10.mp4\n",
      "size: 163.739\n",
      "quality:720p\n",
      "downloaded آموزش تعمیرات موبایل جلسه ی 4.mp4\n",
      "file name: آموزش تعمیرات موبایل جلسه ی 11.mp4\n",
      "size: 133.171\n",
      "quality:720p\n",
      "downloaded آموزش تعمیرات موبایل جلسه ی 8.mp4\n",
      "downloaded آموزش تعمیرات موبایل جلسه ی 10.mp4\n",
      "file name: آموزش تعمیرات موبایل جلسه ی 12.mp4\n",
      "size: 54.339\n",
      "quality:360p\n",
      "file name: آموزش تعمیرات موبایل جلسه ی 13.mp4\n",
      "size: 185.503\n",
      "quality:720p\n"
     ]
    }
   ],
   "source": [
    "save_videos(videos_to_download)"
   ]
  },
  {
   "cell_type": "code",
   "execution_count": null,
   "metadata": {},
   "outputs": [],
   "source": []
  },
  {
   "cell_type": "code",
   "execution_count": null,
   "metadata": {},
   "outputs": [],
   "source": []
  },
  {
   "cell_type": "code",
   "execution_count": null,
   "metadata": {},
   "outputs": [],
   "source": [
    "def download_file(file):\n",
    "    url = file[1]\n",
    "    filename = file[0]\n",
    "    response = requests.get(url, stream=True)\n",
    "    total_size = int(response.headers.get('content-length', 0))\n",
    "    block_size = 1024  # 1 Kibibyte  \n",
    "    with open('./dl_files/'+filename, 'wb') as file:\n",
    "        for data in response.iter_content(block_size):\n",
    "            file.write(data)\n",
    "with ThreadPoolExecutor(max_workers=10) as executor:\n",
    "        tqdm(executor.map(download_file, videos_list), total=len(videos_list))"
   ]
  },
  {
   "cell_type": "code",
   "execution_count": null,
   "metadata": {},
   "outputs": [],
   "source": [
    "#get all urls and run below\n",
    "url='https://www.youtube.com/watch?v=H_gAkKb30fU&t=1816s'\n",
    "\n",
    "def progress_callback(stream: Stream, data_chunk: bytes, bytes_remaining: int) -> None:\n",
    "    bytes_remaining\n",
    "    pbar.update(len(data_chunk))\n",
    "\n",
    "yt = YouTube(url, on_progress_callback=progress_callback)\n",
    "video = yt.streams.get_highest_resolution() #480 if not then 720 then 360,144\n",
    "print(f'file name: {video.default_filename}\\nsize: {video.filesize_mb}\\nquality:{video.resolution}')\n",
    "#if file exists then replace\n",
    "pbar = tqdm(total=video.filesize, unit=\"bytes\")\n",
    "path = video.download('./dl_files')\n",
    "pbar.close()\n",
    "print(f\"Saved video to {path}\")"
   ]
  }
 ],
 "metadata": {
  "kernelspec": {
   "display_name": "Python 3",
   "language": "python",
   "name": "python3"
  },
  "language_info": {
   "codemirror_mode": {
    "name": "ipython",
    "version": 3
   },
   "file_extension": ".py",
   "mimetype": "text/x-python",
   "name": "python",
   "nbconvert_exporter": "python",
   "pygments_lexer": "ipython3",
   "version": "3.12.1"
  }
 },
 "nbformat": 4,
 "nbformat_minor": 2
}
