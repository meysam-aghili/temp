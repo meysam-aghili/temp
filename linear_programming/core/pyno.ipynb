{
 "cells": [
  {
   "cell_type": "code",
   "execution_count": 12,
   "metadata": {},
   "outputs": [
    {
     "data": {
      "text/plain": [
       "array([[   0., 8624., 6951., 9116.],\n",
       "       [8624.,    0., 4036., 3370.],\n",
       "       [6951., 4036.,    0., 2308.],\n",
       "       [9116., 3370., 2308.,    0.]])"
      ]
     },
     "execution_count": 12,
     "metadata": {},
     "output_type": "execute_result"
    }
   ],
   "source": [
    "import folium\n",
    "from pandas import DataFrame\n",
    "import numpy as np\n",
    "import warnings\n",
    "warnings.filterwarnings('ignore')\n",
    "from math import radians, cos, sin, asin, sqrt\n",
    "\n",
    "\n",
    "def haversine(p1, p2):\n",
    "    \n",
    "    lon1, lat1, lon2, lat2 = map(radians, [p1[1], p1[0], p2[1], p2[0]])\n",
    "    dlon = lon2 - lon1\n",
    "    dlat = lat2 - lat1\n",
    "    return int(2 * asin(sqrt(sin(dlat/2)**2 + cos(lat1) * cos(lat2) * sin(dlon/2)**2)) * 6371 * 1000)\n",
    "\n",
    "data3t = {\n",
    "        'lat':[34.8591,34.7819627101561,34.8069205283399,34.7864722047018], \n",
    "        'lon':[48.533,48.5231491280914,48.4910542253773,48.4866556882875]\n",
    "    }\n",
    "data = DataFrame(data3t)[['lat','lon']].to_numpy()\n",
    "\n",
    "distances = np.zeros((data.shape[0],data.shape[0]))\n",
    "for i in range(data.shape[0]):\n",
    "    for j in range(data.shape[0]):\n",
    "        if i!=j:\n",
    "            distances[i][j] = haversine(data[i],data[j])\n",
    "n_point = data.shape[0]\n",
    "distances"
   ]
  },
  {
   "cell_type": "code",
   "execution_count": 13,
   "metadata": {},
   "outputs": [],
   "source": [
    "import pyomo.environ as pyEnv\n",
    "#Model\n",
    "model = pyEnv.ConcreteModel()\n",
    "\n",
    "#Indexes for the cities\n",
    "model.M = pyEnv.RangeSet(n_point)                \n",
    "model.N = pyEnv.RangeSet(n_point)\n",
    "\n",
    "#Index for the dummy variable u\n",
    "model.U = pyEnv.RangeSet(2,n_point)"
   ]
  },
  {
   "cell_type": "code",
   "execution_count": 14,
   "metadata": {},
   "outputs": [],
   "source": [
    "#Decision variables xij\n",
    "model.x = pyEnv.Var(model.N,model.M, within=pyEnv.Binary)\n",
    "\n",
    "#Dummy variable ui\n",
    "model.u = pyEnv.Var(model.N, within=pyEnv.NonNegativeIntegers,bounds=(0,n_point-1))"
   ]
  },
  {
   "cell_type": "code",
   "execution_count": 15,
   "metadata": {},
   "outputs": [],
   "source": [
    "#Cost Matrix cij\n",
    "model.c = pyEnv.Param(model.N, model.M,initialize=lambda model, i, j: distances[i-1][j-1])"
   ]
  },
  {
   "cell_type": "code",
   "execution_count": 16,
   "metadata": {},
   "outputs": [],
   "source": [
    "def obj_func(model):\n",
    "    return sum(model.x[i,j] * model.c[i,j] for i in model.N for j in model.M)\n",
    "\n",
    "model.objective = pyEnv.Objective(rule=obj_func,sense=pyEnv.minimize)"
   ]
  },
  {
   "cell_type": "code",
   "execution_count": 17,
   "metadata": {},
   "outputs": [],
   "source": [
    "def rule_const1(model,M):\n",
    "    return sum(model.x[i,M] for i in model.N if i!=M ) == 1\n",
    "\n",
    "model.const1 = pyEnv.Constraint(model.M,rule=rule_const1)"
   ]
  },
  {
   "cell_type": "code",
   "execution_count": 18,
   "metadata": {},
   "outputs": [],
   "source": [
    "def rule_const2(model,N):\n",
    "    return sum(model.x[N,j] for j in model.M if j!=N) == 1\n",
    "\n",
    "model.rest2 = pyEnv.Constraint(model.N,rule=rule_const2)"
   ]
  },
  {
   "cell_type": "code",
   "execution_count": 19,
   "metadata": {},
   "outputs": [],
   "source": [
    "def rule_const3(model,i,j):\n",
    "    if i!=j: \n",
    "        return model.u[i] - model.u[j] + model.x[i,j] * n_point <= n_point-1\n",
    "    else:\n",
    "        #Yeah, this else doesn't say anything\n",
    "        return model.u[i] - model.u[i] == 0 \n",
    "    \n",
    "model.rest3 = pyEnv.Constraint(model.U,model.N,rule=rule_const3)"
   ]
  },
  {
   "cell_type": "code",
   "execution_count": 20,
   "metadata": {},
   "outputs": [
    {
     "name": "stdout",
     "output_type": "stream",
     "text": [
      "3 Set Declarations\n",
      "    c_index : Size=1, Index=None, Ordered=True\n",
      "        Key  : Dimen : Domain : Size : Members\n",
      "        None :     2 :    N*M :   16 : {(1, 1), (1, 2), (1, 3), (1, 4), (2, 1), (2, 2), (2, 3), (2, 4), (3, 1), (3, 2), (3, 3), (3, 4), (4, 1), (4, 2), (4, 3), (4, 4)}\n",
      "    rest3_index : Size=1, Index=None, Ordered=True\n",
      "        Key  : Dimen : Domain : Size : Members\n",
      "        None :     2 :    U*N :   12 : {(2, 1), (2, 2), (2, 3), (2, 4), (3, 1), (3, 2), (3, 3), (3, 4), (4, 1), (4, 2), (4, 3), (4, 4)}\n",
      "    x_index : Size=1, Index=None, Ordered=True\n",
      "        Key  : Dimen : Domain : Size : Members\n",
      "        None :     2 :    N*M :   16 : {(1, 1), (1, 2), (1, 3), (1, 4), (2, 1), (2, 2), (2, 3), (2, 4), (3, 1), (3, 2), (3, 3), (3, 4), (4, 1), (4, 2), (4, 3), (4, 4)}\n",
      "\n",
      "3 RangeSet Declarations\n",
      "    M : Dimen=1, Size=4, Bounds=(1, 4)\n",
      "        Key  : Finite : Members\n",
      "        None :   True :   [1:4]\n",
      "    N : Dimen=1, Size=4, Bounds=(1, 4)\n",
      "        Key  : Finite : Members\n",
      "        None :   True :   [1:4]\n",
      "    U : Dimen=1, Size=3, Bounds=(2, 4)\n",
      "        Key  : Finite : Members\n",
      "        None :   True :   [2:4]\n",
      "\n",
      "1 Param Declarations\n",
      "    c : Size=16, Index=c_index, Domain=Any, Default=None, Mutable=False\n",
      "        Key    : Value\n",
      "        (1, 1) :    0.0\n",
      "        (1, 2) : 8624.0\n",
      "        (1, 3) : 6951.0\n",
      "        (1, 4) : 9116.0\n",
      "        (2, 1) : 8624.0\n",
      "        (2, 2) :    0.0\n",
      "        (2, 3) : 4036.0\n",
      "        (2, 4) : 3370.0\n",
      "        (3, 1) : 6951.0\n",
      "        (3, 2) : 4036.0\n",
      "        (3, 3) :    0.0\n",
      "        (3, 4) : 2308.0\n",
      "        (4, 1) : 9116.0\n",
      "        (4, 2) : 3370.0\n",
      "        (4, 3) : 2308.0\n",
      "        (4, 4) :    0.0\n",
      "\n",
      "2 Var Declarations\n",
      "    u : Size=4, Index=N\n",
      "        Key : Lower : Value : Upper : Fixed : Stale : Domain\n",
      "          1 :     0 :  None :     3 : False :  True : NonNegativeIntegers\n",
      "          2 :     0 :  None :     3 : False :  True : NonNegativeIntegers\n",
      "          3 :     0 :  None :     3 : False :  True : NonNegativeIntegers\n",
      "          4 :     0 :  None :     3 : False :  True : NonNegativeIntegers\n",
      "    x : Size=16, Index=x_index\n",
      "        Key    : Lower : Value : Upper : Fixed : Stale : Domain\n",
      "        (1, 1) :     0 :  None :     1 : False :  True : Binary\n",
      "        (1, 2) :     0 :  None :     1 : False :  True : Binary\n",
      "        (1, 3) :     0 :  None :     1 : False :  True : Binary\n",
      "        (1, 4) :     0 :  None :     1 : False :  True : Binary\n",
      "        (2, 1) :     0 :  None :     1 : False :  True : Binary\n",
      "        (2, 2) :     0 :  None :     1 : False :  True : Binary\n",
      "        (2, 3) :     0 :  None :     1 : False :  True : Binary\n",
      "        (2, 4) :     0 :  None :     1 : False :  True : Binary\n",
      "        (3, 1) :     0 :  None :     1 : False :  True : Binary\n",
      "        (3, 2) :     0 :  None :     1 : False :  True : Binary\n",
      "        (3, 3) :     0 :  None :     1 : False :  True : Binary\n",
      "        (3, 4) :     0 :  None :     1 : False :  True : Binary\n",
      "        (4, 1) :     0 :  None :     1 : False :  True : Binary\n",
      "        (4, 2) :     0 :  None :     1 : False :  True : Binary\n",
      "        (4, 3) :     0 :  None :     1 : False :  True : Binary\n",
      "        (4, 4) :     0 :  None :     1 : False :  True : Binary\n",
      "\n",
      "1 Objective Declarations\n",
      "    objective : Size=1, Index=None, Active=True\n",
      "        Key  : Active : Sense    : Expression\n",
      "        None :   True : minimize : 8624.0*x[1,2] + 6951.0*x[1,3] + 9116.0*x[1,4] + 8624.0*x[2,1] + 4036.0*x[2,3] + 3370.0*x[2,4] + 6951.0*x[3,1] + 4036.0*x[3,2] + 2308.0*x[3,4] + 9116.0*x[4,1] + 3370.0*x[4,2] + 2308.0*x[4,3]\n",
      "\n",
      "3 Constraint Declarations\n",
      "    const1 : Size=4, Index=M, Active=True\n",
      "        Key : Lower : Body                     : Upper : Active\n",
      "          1 :   1.0 : x[2,1] + x[3,1] + x[4,1] :   1.0 :   True\n",
      "          2 :   1.0 : x[1,2] + x[3,2] + x[4,2] :   1.0 :   True\n",
      "          3 :   1.0 : x[1,3] + x[2,3] + x[4,3] :   1.0 :   True\n",
      "          4 :   1.0 : x[1,4] + x[2,4] + x[3,4] :   1.0 :   True\n",
      "    rest2 : Size=4, Index=N, Active=True\n",
      "        Key : Lower : Body                     : Upper : Active\n",
      "          1 :   1.0 : x[1,2] + x[1,3] + x[1,4] :   1.0 :   True\n",
      "          2 :   1.0 : x[2,1] + x[2,3] + x[2,4] :   1.0 :   True\n",
      "          3 :   1.0 : x[3,1] + x[3,2] + x[3,4] :   1.0 :   True\n",
      "          4 :   1.0 : x[4,1] + x[4,2] + x[4,3] :   1.0 :   True\n",
      "    rest3 : Size=12, Index=rest3_index, Active=True\n",
      "        Key    : Lower : Body                   : Upper : Active\n",
      "        (2, 1) :  -Inf : u[2] - u[1] + 4*x[2,1] :   3.0 :   True\n",
      "        (2, 2) :   0.0 :            u[2] - u[2] :   0.0 :   True\n",
      "        (2, 3) :  -Inf : u[2] - u[3] + 4*x[2,3] :   3.0 :   True\n",
      "        (2, 4) :  -Inf : u[2] - u[4] + 4*x[2,4] :   3.0 :   True\n",
      "        (3, 1) :  -Inf : u[3] - u[1] + 4*x[3,1] :   3.0 :   True\n",
      "        (3, 2) :  -Inf : u[3] - u[2] + 4*x[3,2] :   3.0 :   True\n",
      "        (3, 3) :   0.0 :            u[3] - u[3] :   0.0 :   True\n",
      "        (3, 4) :  -Inf : u[3] - u[4] + 4*x[3,4] :   3.0 :   True\n",
      "        (4, 1) :  -Inf : u[4] - u[1] + 4*x[4,1] :   3.0 :   True\n",
      "        (4, 2) :  -Inf : u[4] - u[2] + 4*x[4,2] :   3.0 :   True\n",
      "        (4, 3) :  -Inf : u[4] - u[3] + 4*x[4,3] :   3.0 :   True\n",
      "        (4, 4) :   0.0 :            u[4] - u[4] :   0.0 :   True\n",
      "\n",
      "13 Declarations: M N U x_index x u c_index c objective const1 rest2 rest3_index rest3\n"
     ]
    }
   ],
   "source": [
    "#Prints the entire model\n",
    "model.pprint()"
   ]
  },
  {
   "cell_type": "code",
   "execution_count": 27,
   "metadata": {},
   "outputs": [
    {
     "name": "stdout",
     "output_type": "stream",
     "text": [
      "WARNING: Could not locate the 'glpsol' executable, which is required for\n",
      "    solver 'glpk'\n"
     ]
    },
    {
     "ename": "ApplicationError",
     "evalue": "No executable found for solver 'glpk'",
     "output_type": "error",
     "traceback": [
      "\u001b[1;31m---------------------------------------------------------------------------\u001b[0m",
      "\u001b[1;31mApplicationError\u001b[0m                          Traceback (most recent call last)",
      "Cell \u001b[1;32mIn [27], line 3\u001b[0m\n\u001b[0;32m      1\u001b[0m \u001b[39m#Solves\u001b[39;00m\n\u001b[0;32m      2\u001b[0m solver \u001b[39m=\u001b[39m pyEnv\u001b[39m.\u001b[39mSolverFactory(\u001b[39m'\u001b[39m\u001b[39mglpk\u001b[39m\u001b[39m'\u001b[39m)\n\u001b[1;32m----> 3\u001b[0m result \u001b[39m=\u001b[39m solver\u001b[39m.\u001b[39;49msolve(model,tee \u001b[39m=\u001b[39;49m \u001b[39mFalse\u001b[39;49;00m)\n\u001b[0;32m      5\u001b[0m \u001b[39m#Prints the results\u001b[39;00m\n\u001b[0;32m      6\u001b[0m \u001b[39mprint\u001b[39m(result)\n",
      "File \u001b[1;32m~\\AppData\\Roaming\\Python\\Python310\\site-packages\\pyomo\\opt\\base\\solvers.py:513\u001b[0m, in \u001b[0;36mOptSolver.solve\u001b[1;34m(self, *args, **kwds)\u001b[0m\n\u001b[0;32m    510\u001b[0m \u001b[39mdef\u001b[39;00m \u001b[39msolve\u001b[39m(\u001b[39mself\u001b[39m, \u001b[39m*\u001b[39margs, \u001b[39m*\u001b[39m\u001b[39m*\u001b[39mkwds):\n\u001b[0;32m    511\u001b[0m     \u001b[39m\"\"\" Solve the problem \"\"\"\u001b[39;00m\n\u001b[1;32m--> 513\u001b[0m     \u001b[39mself\u001b[39;49m\u001b[39m.\u001b[39;49mavailable(exception_flag\u001b[39m=\u001b[39;49m\u001b[39mTrue\u001b[39;49;00m)\n\u001b[0;32m    514\u001b[0m     \u001b[39m#\u001b[39;00m\n\u001b[0;32m    515\u001b[0m     \u001b[39m# If the inputs are models, then validate that they have been\u001b[39;00m\n\u001b[0;32m    516\u001b[0m     \u001b[39m# constructed! Collect suffix names to try and import from solution.\u001b[39;00m\n\u001b[0;32m    517\u001b[0m     \u001b[39m#\u001b[39;00m\n\u001b[0;32m    518\u001b[0m     \u001b[39mfrom\u001b[39;00m \u001b[39mpyomo\u001b[39;00m\u001b[39m.\u001b[39;00m\u001b[39mcore\u001b[39;00m\u001b[39m.\u001b[39;00m\u001b[39mbase\u001b[39;00m\u001b[39m.\u001b[39;00m\u001b[39mblock\u001b[39;00m \u001b[39mimport\u001b[39;00m _BlockData\n",
      "File \u001b[1;32m~\\AppData\\Roaming\\Python\\Python310\\site-packages\\pyomo\\opt\\solver\\shellcmd.py:129\u001b[0m, in \u001b[0;36mSystemCallSolver.available\u001b[1;34m(self, exception_flag)\u001b[0m\n\u001b[0;32m    127\u001b[0m     \u001b[39mif\u001b[39;00m exception_flag:\n\u001b[0;32m    128\u001b[0m         msg \u001b[39m=\u001b[39m \u001b[39m\"\u001b[39m\u001b[39mNo executable found for solver \u001b[39m\u001b[39m'\u001b[39m\u001b[39m%s\u001b[39;00m\u001b[39m'\u001b[39m\u001b[39m\"\u001b[39m\n\u001b[1;32m--> 129\u001b[0m         \u001b[39mraise\u001b[39;00m ApplicationError(msg \u001b[39m%\u001b[39m \u001b[39mself\u001b[39m\u001b[39m.\u001b[39mname)\n\u001b[0;32m    130\u001b[0m     \u001b[39mreturn\u001b[39;00m \u001b[39mFalse\u001b[39;00m\n\u001b[0;32m    131\u001b[0m \u001b[39mreturn\u001b[39;00m \u001b[39mTrue\u001b[39;00m\n",
      "\u001b[1;31mApplicationError\u001b[0m: No executable found for solver 'glpk'"
     ]
    }
   ],
   "source": [
    "#Solves\n",
    "solver = pyEnv.SolverFactory('glpk')\n",
    "result = solver.solve(model,tee = False)\n",
    "\n",
    "#Prints the results\n",
    "print(result)"
   ]
  },
  {
   "cell_type": "code",
   "execution_count": null,
   "metadata": {},
   "outputs": [],
   "source": [
    "l = list(model.x.keys())\n",
    "for i in l:\n",
    "    if model.x[i]() != 0:\n",
    "        print(i,'--', model.x[i]())"
   ]
  }
 ],
 "metadata": {
  "kernelspec": {
   "display_name": "Python 3.10.8 64-bit",
   "language": "python",
   "name": "python3"
  },
  "language_info": {
   "codemirror_mode": {
    "name": "ipython",
    "version": 3
   },
   "file_extension": ".py",
   "mimetype": "text/x-python",
   "name": "python",
   "nbconvert_exporter": "python",
   "pygments_lexer": "ipython3",
   "version": "3.10.8"
  },
  "orig_nbformat": 4,
  "vscode": {
   "interpreter": {
    "hash": "26de051ba29f2982a8de78e945f0abaf191376122a1563185a90213a26c5da77"
   }
  }
 },
 "nbformat": 4,
 "nbformat_minor": 2
}
