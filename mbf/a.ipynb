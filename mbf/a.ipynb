{
 "cells": [
  {
   "cell_type": "code",
   "execution_count": 191,
   "metadata": {},
   "outputs": [],
   "source": [
    "import pandas as pd"
   ]
  },
  {
   "cell_type": "code",
   "execution_count": 192,
   "metadata": {},
   "outputs": [],
   "source": [
    "file_name = './140208-100-کوثر برزو.mbf'\n",
    "file_name = './140208-100-ارزو شکری.mbf'\n",
    "with open(file_name, mode='r', encoding = \"utf-8\", errors='ignore') as file:\n",
    "    file_content = file.readlines()"
   ]
  },
  {
   "cell_type": "code",
   "execution_count": 193,
   "metadata": {},
   "outputs": [
    {
     "data": {
      "text/plain": [
       "{'Version': '2',\n",
       " 'FGID': 'MSFX07DDB16130D39033E',\n",
       " 'ColsName': 'radif,sharh,count,fe,pe,note',\n",
       " 'Rows': '1',\n",
       " 'ECsName': 'takhfif,maliyat,avarez',\n",
       " 'Atr0': '0',\n",
       " 'Atr1': '0',\n",
       " 'Atr2': '0,,',\n",
       " 'Atr3': '0',\n",
       " '@Number': '140208-100',\n",
       " '@Date': '1402/08/21',\n",
       " '@Tittle': 'فاکتور فروش',\n",
       " '@Note': 'مشتری عزیز جهت حفظ و نگهداری بهتر لباس خود به نکات زیر ت\\x01@Note وجه فرمایید',\n",
       " '1-مدت': 'زمان شست و شوی لباس با ماشین لباس شویی\\x02@Note حداکثر 15 دقیقه میباشد',\n",
       " '2-از': 'شستن لباس خود با اب گرم خودد\\x03@Note ری کنید (دمای مناسب زیر 30 درجه میباشد)',\n",
       " '3_برای': 'جلوگیری از\\x04@Note اسیب دیدن چاپ لباس را حتما پشت و رو داخل ماشین لباس شوی\\x05@Note بیاندازید',\n",
       " '4-لباس': 'ها را بر اساس رنگ و نوع پارچه دسته بند\\x06@Note ی کنید و به طور جداگانه داخل ماشین لباس شویی بیاندازید',\n",
       " '\\x07@Note': '5-از شوینده های مناسب برای شست و شو استفاده شود',\n",
       " '@CustName': 'ارزو شکری',\n",
       " '@CustTell': '09358808242',\n",
       " '@MarginLeft': '10',\n",
       " '@MarginTop': '10',\n",
       " '@MarginBottom': '10',\n",
       " '@MarginRight': '10',\n",
       " '@PriceUnit': 'ریال',\n",
       " '@Round': '0',\n",
       " '@MiladiDate': 'false',\n",
       " '@SelectedCom': '1',\n",
       " '%takhfif': '400000',\n",
       " '&takhfif': 'هزینه ارسال',\n",
       " '~takhfif': 'false',\n",
       " '^takhfif': '+',\n",
       " '%maliyat': '0',\n",
       " '~maliyat': 'false',\n",
       " '^maliyat': '+',\n",
       " '%avarez': '0',\n",
       " '~avarez': 'false',\n",
       " '^avarez': '+',\n",
       " '#A1': '1',\n",
       " '#B1': 'دورس FULL MOON',\n",
       " '#C1': '1',\n",
       " '#D1': '9,600,000',\n",
       " '#E1': '9600000'}"
      ]
     },
     "execution_count": 193,
     "metadata": {},
     "output_type": "execute_result"
    }
   ],
   "source": [
    "splited_list_of_lines = [l.split('\\x00') for l in file_content]\n",
    "splited_list_of_lines_flat = [item for sublist in splited_list_of_lines for item in sublist]\n",
    "data_dict = {}\n",
    "for i in splited_list_of_lines_flat:\n",
    "    property_list = i.split()\n",
    "    if len(property_list) >= 2:\n",
    "        property_dict = {property_list[0]:\" \".join(property_list[1:])}\n",
    "        data_dict.update(property_dict)\n",
    "data_dict"
   ]
  },
  {
   "cell_type": "code",
   "execution_count": null,
   "metadata": {},
   "outputs": [],
   "source": [
    "#'ColsName': 'radif,sharh,count,fe,pe,note',"
   ]
  },
  {
   "cell_type": "code",
   "execution_count": 195,
   "metadata": {},
   "outputs": [],
   "source": [
    "drop_cols = [\n",
    "    'FGID','ColsName','Rows','ECsName','Version'\n",
    "    ,'Atr0','Atr1','Atr2','Atr3','@Tittle','@MarginLeft','@MarginTop'\n",
    "    ,'@MarginBottom','@MarginRight','@PriceUnit','@MiladiDate','@SelectedCom'\n",
    "]\n",
    "rename_cols = {'@Number':'order_code','@Date':'date','@CustName':'customer_name','@CustTell':'customer_phone'}\n",
    "df = pd.DataFrame([data_dict]).rename(rename_cols, axis=1).drop(drop_cols, axis=1)"
   ]
  },
  {
   "cell_type": "code",
   "execution_count": 196,
   "metadata": {},
   "outputs": [
    {
     "data": {
      "text/html": [
       "<div>\n",
       "<style scoped>\n",
       "    .dataframe tbody tr th:only-of-type {\n",
       "        vertical-align: middle;\n",
       "    }\n",
       "\n",
       "    .dataframe tbody tr th {\n",
       "        vertical-align: top;\n",
       "    }\n",
       "\n",
       "    .dataframe thead th {\n",
       "        text-align: right;\n",
       "    }\n",
       "</style>\n",
       "<table border=\"1\" class=\"dataframe\">\n",
       "  <thead>\n",
       "    <tr style=\"text-align: right;\">\n",
       "      <th></th>\n",
       "      <th>order_code</th>\n",
       "      <th>date</th>\n",
       "      <th>@Note</th>\n",
       "      <th>1-مدت</th>\n",
       "      <th>2-از</th>\n",
       "      <th>3_برای</th>\n",
       "      <th>4-لباس</th>\n",
       "      <th>\u0007@Note</th>\n",
       "      <th>customer_name</th>\n",
       "      <th>customer_phone</th>\n",
       "      <th>...</th>\n",
       "      <th>~maliyat</th>\n",
       "      <th>^maliyat</th>\n",
       "      <th>%avarez</th>\n",
       "      <th>~avarez</th>\n",
       "      <th>^avarez</th>\n",
       "      <th>#A1</th>\n",
       "      <th>#B1</th>\n",
       "      <th>#C1</th>\n",
       "      <th>#D1</th>\n",
       "      <th>#E1</th>\n",
       "    </tr>\n",
       "  </thead>\n",
       "  <tbody>\n",
       "    <tr>\n",
       "      <th>0</th>\n",
       "      <td>140208-100</td>\n",
       "      <td>1402/08/21</td>\n",
       "      <td>مشتری عزیز جهت حفظ و نگهداری بهتر لباس خود به ...</td>\n",
       "      <td>زمان شست و شوی لباس با ماشین لباس شویی\u0002@Note ح...</td>\n",
       "      <td>شستن لباس خود با اب گرم خودد\u0003@Note ری کنید (دم...</td>\n",
       "      <td>جلوگیری از\u0004@Note اسیب دیدن چاپ لباس را حتما پش...</td>\n",
       "      <td>ها را بر اساس رنگ و نوع پارچه دسته بند\u0006@Note ی...</td>\n",
       "      <td>5-از شوینده های مناسب برای شست و شو استفاده شود</td>\n",
       "      <td>ارزو شکری</td>\n",
       "      <td>09358808242</td>\n",
       "      <td>...</td>\n",
       "      <td>false</td>\n",
       "      <td>+</td>\n",
       "      <td>0</td>\n",
       "      <td>false</td>\n",
       "      <td>+</td>\n",
       "      <td>1</td>\n",
       "      <td>دورس FULL MOON</td>\n",
       "      <td>1</td>\n",
       "      <td>9,600,000</td>\n",
       "      <td>9600000</td>\n",
       "    </tr>\n",
       "  </tbody>\n",
       "</table>\n",
       "<p>1 rows × 26 columns</p>\n",
       "</div>"
      ],
      "text/plain": [
       "   order_code        date                                              @Note   \n",
       "0  140208-100  1402/08/21  مشتری عزیز جهت حفظ و نگهداری بهتر لباس خود به ...  \\\n",
       "\n",
       "                                               1-مدت   \n",
       "0  زمان شست و شوی لباس با ماشین لباس شویی\u0002@Note ح...  \\\n",
       "\n",
       "                                                2-از   \n",
       "0  شستن لباس خود با اب گرم خودد\u0003@Note ری کنید (دم...  \\\n",
       "\n",
       "                                              3_برای   \n",
       "0  جلوگیری از\u0004@Note اسیب دیدن چاپ لباس را حتما پش...  \\\n",
       "\n",
       "                                              4-لباس   \n",
       "0  ها را بر اساس رنگ و نوع پارچه دسته بند\u0006@Note ی...  \\\n",
       "\n",
       "                                            \u0007@Note customer_name   \n",
       "0  5-از شوینده های مناسب برای شست و شو استفاده شود     ارزو شکری  \\\n",
       "\n",
       "  customer_phone  ... ~maliyat ^maliyat %avarez ~avarez ^avarez #A1   \n",
       "0    09358808242  ...    false        +       0   false       +   1  \\\n",
       "\n",
       "              #B1 #C1        #D1      #E1  \n",
       "0  دورس FULL MOON   1  9,600,000  9600000  \n",
       "\n",
       "[1 rows x 26 columns]"
      ]
     },
     "execution_count": 196,
     "metadata": {},
     "output_type": "execute_result"
    }
   ],
   "source": [
    "df"
   ]
  },
  {
   "cell_type": "code",
   "execution_count": null,
   "metadata": {},
   "outputs": [],
   "source": [
    "\"\"\"\n",
    "TODO\n",
    "multi line ha yek line shan mesle Note\n",
    "multi kala ha az column be row bian\n",
    "avarez va maliat va takhfif be eza har kala joda mikhore ya na?\n",
    "tamiz kardan data va data type\n",
    "\"\"\"\n"
   ]
  }
 ],
 "metadata": {
  "kernelspec": {
   "display_name": "Python 3",
   "language": "python",
   "name": "python3"
  },
  "language_info": {
   "codemirror_mode": {
    "name": "ipython",
    "version": 3
   },
   "file_extension": ".py",
   "mimetype": "text/x-python",
   "name": "python",
   "nbconvert_exporter": "python",
   "pygments_lexer": "ipython3",
   "version": "3.11.2"
  },
  "orig_nbformat": 4
 },
 "nbformat": 4,
 "nbformat_minor": 2
}
